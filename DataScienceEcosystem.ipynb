{
 "cells": [
  {
   "cell_type": "markdown",
   "id": "1fb796e0-5a8b-43a2-9f8a-940f399483ff",
   "metadata": {},
   "source": [
    "# Data Science Tools and Ecosystem"
   ]
  },
  {
   "cell_type": "markdown",
   "id": "a031345d-475c-4b6d-a108-a2d18a8cc934",
   "metadata": {},
   "source": [
    "## Author\n",
    "Logan Mcquarry"
   ]
  },
  {
   "cell_type": "markdown",
   "id": "96a47992-3543-4e46-bca3-37f0c56f67ec",
   "metadata": {},
   "source": [
    "In this notebook, Data Science Tools and Ecosystem are summarized."
   ]
  },
  {
   "cell_type": "markdown",
   "id": "fc951bef-17ea-4102-aa7d-3da4b8566e82",
   "metadata": {
    "tags": []
   },
   "source": [
    ">Objectives:\n",
    "> - List popular languages for Data Science\n",
    "> - Commonly used libraries used by Data Scientists\n",
    "> - Data Science Tools\n",
    "> - Evaluating arithmetic expressions in Python"
   ]
  },
  {
   "cell_type": "markdown",
   "id": "bc7c00ee-c4bd-4df5-8d02-7348093314c6",
   "metadata": {},
   "source": [
    "> #### Some of the popular languages that Data Scientists use are:\n",
    "> \n",
    "> 1. Python\n",
    "> 2. R\n",
    "> 3. SQL\n",
    "> 4. Julia\n",
    "> 5. Swift\n",
    "> 6. Scala\n",
    "> \n"
   ]
  },
  {
   "cell_type": "markdown",
   "id": "8e267ea3-5f4d-4e6b-b616-ad7863c7cdf4",
   "metadata": {},
   "source": [
    "> #### Some of the commonly used libraries used by Data Scientists include:\n",
    "> \n",
    "> 1. ggplot2\n",
    "> 2. PyTorch\n",
    "> 3. TensorFlow\n",
    "> 4. Pandas\n",
    "> 5. NumPy\n",
    "> 6. Matplotlib\n",
    "> "
   ]
  },
  {
   "cell_type": "markdown",
   "id": "be4c5e41-bd85-453a-9156-0e8486cb894a",
   "metadata": {},
   "source": [
    "| Data Science Tools |\n",
    "| --- |\n",
    "| Jupyter Notebook |\n",
    "| RStudio |\n",
    "| Spyder |\n",
    "| PyCharm |"
   ]
  },
  {
   "cell_type": "markdown",
   "id": "579945ff-7832-4505-9d47-923f6a39396d",
   "metadata": {},
   "source": [
    "# Below are a few examples of evaluating arithmetic expressions in Python"
   ]
  },
  {
   "cell_type": "code",
   "execution_count": 5,
   "id": "5b3a85f4-cb0d-46a2-b00a-727b838ce352",
   "metadata": {},
   "outputs": [
    {
     "data": {
      "text/html": [
       "17"
      ],
      "text/latex": [
       "17"
      ],
      "text/markdown": [
       "17"
      ],
      "text/plain": [
       "[1] 17"
      ]
     },
     "metadata": {},
     "output_type": "display_data"
    }
   ],
   "source": [
    "#This a simple arithmetic expression to mutiply then add integers\n",
    "(3*4)+5"
   ]
  },
  {
   "cell_type": "code",
   "execution_count": 6,
   "id": "0df56020-acb8-4e8e-838d-ee08ee41c6f0",
   "metadata": {},
   "outputs": [
    {
     "data": {
      "text/html": [
       "3.33333333333333"
      ],
      "text/latex": [
       "3.33333333333333"
      ],
      "text/markdown": [
       "3.33333333333333"
      ],
      "text/plain": [
       "[1] 3.333333"
      ]
     },
     "metadata": {},
     "output_type": "display_data"
    }
   ],
   "source": [
    "#This will convert 200 minutes to hours by diving by 60\n",
    " 200/60"
   ]
  }
 ],
 "metadata": {
  "kernelspec": {
   "display_name": "R",
   "language": "R",
   "name": "conda-env-r-r"
  },
  "language_info": {
   "codemirror_mode": "r",
   "file_extension": ".r",
   "mimetype": "text/x-r-source",
   "name": "R",
   "pygments_lexer": "r",
   "version": "3.5.1"
  }
 },
 "nbformat": 4,
 "nbformat_minor": 5
}
